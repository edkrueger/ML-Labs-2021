{
 "cells": [
  {
   "cell_type": "code",
   "execution_count": 5,
   "metadata": {},
   "outputs": [],
   "source": [
    "%load_ext lab_black"
   ]
  },
  {
   "cell_type": "code",
   "execution_count": 33,
   "metadata": {},
   "outputs": [],
   "source": [
    "import pandas as pd\n",
    "from matplotlib import pyplot as plt\n",
    "from sklearn.model_selection import train_test_split\n",
    "from sklearn.linear_model import LogisticRegression\n",
    "from sklearn.tree import DecisionTreeClassifier\n",
    "from sklearn.ensemble import RandomForestClassifier\n",
    "from sklearn.metrics import classification_report\n",
    "from sklearn.metrics import confusion_matrix\n",
    "from sklearn.dummy import DummyClassifier\n",
    "from sklearn.metrics import plot_confusion_matrix"
   ]
  },
  {
   "cell_type": "code",
   "execution_count": 6,
   "metadata": {},
   "outputs": [],
   "source": [
    "df = pd.read_csv(\"data/default.csv\")"
   ]
  },
  {
   "cell_type": "code",
   "execution_count": 22,
   "metadata": {},
   "outputs": [
    {
     "data": {
      "text/plain": [
       "False    9667\n",
       "True      333\n",
       "Name: default, dtype: int64"
      ]
     },
     "execution_count": 22,
     "metadata": {},
     "output_type": "execute_result"
    }
   ],
   "source": [
    "df[\"default\"].value_counts()"
   ]
  },
  {
   "cell_type": "code",
   "execution_count": 8,
   "metadata": {},
   "outputs": [],
   "source": [
    "y = df[\"default\"].values\n",
    "X = df.drop(\"default\", axis=1).values"
   ]
  },
  {
   "cell_type": "code",
   "execution_count": 9,
   "metadata": {},
   "outputs": [
    {
     "data": {
      "text/plain": [
       "array([False, False, False, ..., False, False, False])"
      ]
     },
     "execution_count": 9,
     "metadata": {},
     "output_type": "execute_result"
    }
   ],
   "source": [
    "y"
   ]
  },
  {
   "cell_type": "code",
   "execution_count": 10,
   "metadata": {},
   "outputs": [
    {
     "data": {
      "text/plain": [
       "array([[False, 729.5264952072861, 44361.625074266914],\n",
       "       [True, 817.180406555498, 12106.1347003149],\n",
       "       [False, 1073.54916401173, 31767.1389473999],\n",
       "       ...,\n",
       "       [False, 845.411989217448, 58636.1569838071],\n",
       "       [False, 1569.0090533837194, 36669.1123645833],\n",
       "       [True, 200.92218263479697, 16862.9523209407]], dtype=object)"
      ]
     },
     "execution_count": 10,
     "metadata": {},
     "output_type": "execute_result"
    }
   ],
   "source": [
    "X"
   ]
  },
  {
   "cell_type": "code",
   "execution_count": 11,
   "metadata": {},
   "outputs": [],
   "source": [
    "X_train, X_test, y_train, y_test = train_test_split(X, y, random_state=42, stratify=y)"
   ]
  },
  {
   "cell_type": "code",
   "execution_count": 41,
   "metadata": {},
   "outputs": [
    {
     "name": "stdout",
     "output_type": "stream",
     "text": [
      "              precision    recall  f1-score   support\n",
      "\n",
      "       False       0.97      1.00      0.98      2417\n",
      "        True       0.00      0.00      0.00        83\n",
      "\n",
      "    accuracy                           0.97      2500\n",
      "   macro avg       0.48      0.50      0.49      2500\n",
      "weighted avg       0.93      0.97      0.95      2500\n",
      "\n"
     ]
    }
   ],
   "source": [
    "dummy_classifier = DummyClassifier(strategy=\"most_frequent\")\n",
    "dummy_classifier.fit(X_train, y_train)\n",
    "y_test_pred = dummy_classifier.predict(X_test)\n",
    "print(classification_report(y_test, y_test_pred))\n",
    "# plot_confusion_matrix(dummy_classifier, X_test, y_test)\n",
    "# plt.plot()"
   ]
  },
  {
   "cell_type": "code",
   "execution_count": 42,
   "metadata": {},
   "outputs": [
    {
     "name": "stdout",
     "output_type": "stream",
     "text": [
      "              precision    recall  f1-score   support\n",
      "\n",
      "       False       0.97      0.99      0.98      2417\n",
      "        True       0.51      0.22      0.31        83\n",
      "\n",
      "    accuracy                           0.97      2500\n",
      "   macro avg       0.74      0.60      0.64      2500\n",
      "weighted avg       0.96      0.97      0.96      2500\n",
      "\n"
     ]
    }
   ],
   "source": [
    "logistic_regression = LogisticRegression()\n",
    "logistic_regression.fit(X_train, y_train)\n",
    "y_test_pred = logistic_regression.predict(X_test)\n",
    "print(classification_report(y_test, y_test_pred))\n",
    "# plot_confusion_matrix(logistic_regression, X_test, y_test)\n",
    "# plt.plot()"
   ]
  },
  {
   "cell_type": "code",
   "execution_count": 44,
   "metadata": {},
   "outputs": [
    {
     "name": "stdout",
     "output_type": "stream",
     "text": [
      "              precision    recall  f1-score   support\n",
      "\n",
      "       False       0.98      0.98      0.98      2417\n",
      "        True       0.37      0.39      0.38        83\n",
      "\n",
      "    accuracy                           0.96      2500\n",
      "   macro avg       0.68      0.68      0.68      2500\n",
      "weighted avg       0.96      0.96      0.96      2500\n",
      "\n"
     ]
    }
   ],
   "source": [
    "decsion_tree = DecisionTreeClassifier()\n",
    "decsion_tree.fit(X_train, y_train)\n",
    "y_test_pred = decsion_tree.predict(X_test)\n",
    "print(classification_report(y_test, y_test_pred))\n",
    "# plot_confusion_matrix(logistic_regression, X_test, y_test)\n",
    "# plt.plot()"
   ]
  },
  {
   "cell_type": "code",
   "execution_count": 45,
   "metadata": {},
   "outputs": [
    {
     "name": "stdout",
     "output_type": "stream",
     "text": [
      "              precision    recall  f1-score   support\n",
      "\n",
      "       False       0.98      0.99      0.98      2417\n",
      "        True       0.50      0.31      0.39        83\n",
      "\n",
      "    accuracy                           0.97      2500\n",
      "   macro avg       0.74      0.65      0.68      2500\n",
      "weighted avg       0.96      0.97      0.96      2500\n",
      "\n"
     ]
    }
   ],
   "source": [
    "random_forest = RandomForestClassifier()\n",
    "random_forest.fit(X_train, y_train)\n",
    "y_test_pred = random_forest.predict(X_test)\n",
    "print(classification_report(y_test, y_test_pred))\n",
    "# plot_confusion_matrix(logistic_regression, X_test, y_test)\n",
    "# plt.plot()"
   ]
  },
  {
   "cell_type": "code",
   "execution_count": null,
   "metadata": {},
   "outputs": [],
   "source": []
  }
 ],
 "metadata": {
  "environment": {
   "name": "common-cpu.m55",
   "type": "gcloud",
   "uri": "gcr.io/deeplearning-platform-release/base-cpu:m55"
  },
  "kernelspec": {
   "display_name": "Python 3",
   "language": "python",
   "name": "python3"
  },
  "language_info": {
   "codemirror_mode": {
    "name": "ipython",
    "version": 3
   },
   "file_extension": ".py",
   "mimetype": "text/x-python",
   "name": "python",
   "nbconvert_exporter": "python",
   "pygments_lexer": "ipython3",
   "version": "3.7.8"
  }
 },
 "nbformat": 4,
 "nbformat_minor": 4
}
